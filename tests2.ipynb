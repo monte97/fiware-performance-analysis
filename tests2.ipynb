{
 "cells": [
  {
   "cell_type": "code",
   "execution_count": 1,
   "id": "e1572807-73ba-4985-b40a-50a56b236a58",
   "metadata": {},
   "outputs": [],
   "source": [
    "import numpy as np\n",
    "import pandas as pd\n",
    "import datetime\n",
    "from matplotlib import pyplot as plt\n",
    "\n",
    "import sys\n",
    "import os\n",
    "import glob"
   ]
  },
  {
   "cell_type": "code",
   "execution_count": 34,
   "id": "97a9f1a3-c9ab-422c-b91a-ea21cbe91f5c",
   "metadata": {},
   "outputs": [],
   "source": [
    "import numpy as np\n",
    "import pandas as pd\n",
    "import datetime\n",
    "from matplotlib import pyplot as plt\n",
    "\n",
    "import sys\n",
    "import os\n",
    "import glob\n",
    "\n",
    "def getExperimentsInSet(experiment_set):\n",
    "    res = os.listdir(experiment_set)\n",
    "    res.reverse()\n",
    "    return res\n",
    "\n",
    "def readAggregateDevices(experiment_set, experiment_name):\n",
    "    experiments = os.listdir(experiment_set)\n",
    "    devices = pd.DataFrame(columns=[0,1,2])\n",
    "    for device_file in os.listdir(experiment_set+\"/\"+experiment_name+\"/devices\"):\n",
    "        if(device_file.endswith(\".csv\")):\n",
    "            device = pd.read_csv(experiment_set+\"/\"+experiment_name+\"/devices/\"+device_file, header=None)\n",
    "            devices = pd.concat([devices, device])\n",
    "    devices.columns=[\"Device ID\", \"Device Status\", \"Device Timestamp\"]\n",
    "    devices[\"datetime\"] = pd.to_datetime(devices[\"Device Timestamp\"], unit=\"ms\")\n",
    "\n",
    "    return devices\n",
    "\n",
    "def readConsumer(experiment_set, experiment_name):\n",
    "    result = pd.read_csv(experiment_set+\"/\"+experiment_name+\"/consumer/\"+experiment_name+\".csv\", header=None, sep=\",\") \\\n",
    "        .replace(\"None\", np.nan) \\\n",
    "        .dropna()\n",
    "    result.columns=[\"Device ID\", \"Device Status\", \"Kafka Timestamp\", \"Draco Timestamp\", \"Device Timestamp\", \"Consumer Timestamp\"]\n",
    "    \n",
    "    result[\"datetime\"] = pd.to_datetime(result[\"Device Timestamp\"], unit=\"ms\")\n",
    "    result[\"Kafka Timestamp\"] = result[\"Kafka Timestamp\"].astype(\"int64\", copy=False)\n",
    "    result[\"Draco Timestamp\"] = result[\"Draco Timestamp\"].astype(\"int64\", copy=False)\n",
    "    result[\"Device Timestamp\"] = result[\"Device Timestamp\"].astype(\"int64\", copy=False)\n",
    "    result[\"Consumer Timestamp\"] = result[\"Consumer Timestamp\"].astype(\"int64\", copy=False)\n",
    "\n",
    "    \n",
    "    result[\"Delay Draco/Device\"] = result[\"Draco Timestamp\"] - result[\"Device Timestamp\"]\n",
    "    result[\"Delay Kafka/Draco\"] = result[\"Kafka Timestamp\"] - result[\"Draco Timestamp\"]\n",
    "    result[\"Delay Kafka/Device\"] = result[\"Kafka Timestamp\"] - result[\"Device Timestamp\"]\n",
    "    result[\"Delay Consumer/Device\"] = result[\"Consumer Timestamp\"] - result[\"Device Timestamp\"]\n",
    "\n",
    "\n",
    "    return result"
   ]
  },
  {
   "cell_type": "markdown",
   "id": "d964bb73-d847-4de6-8b88-56e51f6773c9",
   "metadata": {},
   "source": [
    "# Lavori preeliminari"
   ]
  },
  {
   "cell_type": "code",
   "execution_count": 15,
   "id": "b4e56262-b2a8-4c14-a657-e2171895f251",
   "metadata": {},
   "outputs": [],
   "source": [
    "experiment_set = \"freqV3\""
   ]
  },
  {
   "cell_type": "code",
   "execution_count": 16,
   "id": "cbfdf6ea-fd3e-4b3d-9e01-c08f9f72c3c8",
   "metadata": {},
   "outputs": [],
   "source": [
    "experiments = os.listdir(experiment_subset)"
   ]
  },
  {
   "cell_type": "code",
   "execution_count": 17,
   "id": "8adec03a-cdc7-4ab3-a5bb-e5b5654d71ca",
   "metadata": {},
   "outputs": [
    {
     "data": {
      "text/plain": [
       "['5_1000_1000_1_0_0_0_20210914_0938',\n",
       " '5_100_9000_1_0_0_0_20210914_1007',\n",
       " '5_10_90000_1_0_0_0_20210914_1035',\n",
       " '5_6_180000_1_0_0_0_20210914_1132',\n",
       " '5_8_112500_1_0_0_0_20210914_1104']"
      ]
     },
     "execution_count": 17,
     "metadata": {},
     "output_type": "execute_result"
    }
   ],
   "source": [
    "experiments"
   ]
  },
  {
   "cell_type": "code",
   "execution_count": 6,
   "id": "8363fda7-45de-4451-bbe8-990bd356a6fe",
   "metadata": {
    "tags": []
   },
   "outputs": [
    {
     "data": {
      "text/plain": [
       "['term1000.csv',\n",
       " 'term1001.csv',\n",
       " 'term1002.csv',\n",
       " 'term1003.csv',\n",
       " 'term1004.csv']"
      ]
     },
     "execution_count": 6,
     "metadata": {},
     "output_type": "execute_result"
    }
   ],
   "source": [
    "os.listdir(experiment_subset+\"/\"+experiments[0]+\"/devices\")"
   ]
  },
  {
   "cell_type": "code",
   "execution_count": 18,
   "id": "ec8bf22a-d55e-4201-a87e-996058691f78",
   "metadata": {
    "tags": []
   },
   "outputs": [
    {
     "name": "stdout",
     "output_type": "stream",
     "text": [
      "term1000.csv\n",
      "term1001.csv\n",
      "term1002.csv\n",
      "term1003.csv\n",
      "term1004.csv\n"
     ]
    }
   ],
   "source": [
    "devices = pd.DataFrame(columns=[0,1,2])\n",
    "for device_file in os.listdir(experiment_subset+\"/\"+experiments[0]+\"/devices\"):\n",
    "    print(device_file)\n",
    "    if(device_file.endswith(\".csv\")):\n",
    "        device = pd.read_csv(experiment_subset+\"/\"+experiments[0]+\"/devices/\"+device_file, header=None)\n",
    "        devices = pd.concat([devices, device])"
   ]
  },
  {
   "cell_type": "markdown",
   "id": "5e21581f-c229-406e-96ab-17c8cd5d5b11",
   "metadata": {},
   "source": [
    "Lettura e pulizia dei dati letti dal consumer.\n",
    "\n",
    "Vengono rimossi i dati riguardati device non ancora accesi"
   ]
  },
  {
   "cell_type": "code",
   "execution_count": 24,
   "id": "d32cfd1c-d13b-4309-8548-63faa44a59e2",
   "metadata": {},
   "outputs": [],
   "source": [
    "consumer = pd.read_csv(experiment_set+\"/\"+experiments[0]+\"/consumer/\"+experiments[0]+\".csv\", header=None, sep=\",\") \\\n",
    "        .replace(\"None\", np.nan) \\\n",
    "        .dropna()\n",
    "\n",
    "consumer.columns=[\"Device ID\", \"Device Status\", \"Kafka Timestamp\", \"Draco Timestamp\", \"Device Timestamp\", \"Consumer Timestamp\"]\n",
    "    \n",
    "consumer[\"datetime\"] = pd.to_datetime(consumer[\"Device Timestamp\"], unit=\"ms\")\n",
    "consumer[\"Kafka Timestamp\"] = consumer[\"Kafka Timestamp\"].astype(\"int64\", copy=False)\n",
    "consumer[\"Draco Timestamp\"] = consumer[\"Draco Timestamp\"].astype(\"int64\", copy=False)\n",
    "consumer[\"Device Timestamp\"] = consumer[\"Device Timestamp\"].astype(\"int64\", copy=False)\n",
    "consumer[\"Consumer Timestamp\"] = consumer[\"Consumer Timestamp\"].astype(\"int64\", copy=False)\n",
    "    \n",
    "consumer[\"Delay Draco/Device\"] = consumer[\"Draco Timestamp\"] - consumer[\"Device Timestamp\"]\n",
    "consumer[\"Delay Kafka/Draco\"] = consumer[\"Kafka Timestamp\"] - consumer[\"Draco Timestamp\"]\n",
    "consumer[\"Delay Kafka/Device\"] = consumer[\"Kafka Timestamp\"] - consumer[\"Device Timestamp\"]"
   ]
  },
  {
   "cell_type": "code",
   "execution_count": 25,
   "id": "de5d40b5-cefe-4857-82a8-b0db3c3ea2eb",
   "metadata": {},
   "outputs": [
    {
     "data": {
      "text/html": [
       "<div>\n",
       "<style scoped>\n",
       "    .dataframe tbody tr th:only-of-type {\n",
       "        vertical-align: middle;\n",
       "    }\n",
       "\n",
       "    .dataframe tbody tr th {\n",
       "        vertical-align: top;\n",
       "    }\n",
       "\n",
       "    .dataframe thead th {\n",
       "        text-align: right;\n",
       "    }\n",
       "</style>\n",
       "<table border=\"1\" class=\"dataframe\">\n",
       "  <thead>\n",
       "    <tr style=\"text-align: right;\">\n",
       "      <th></th>\n",
       "      <th>Device ID</th>\n",
       "      <th>Device Status</th>\n",
       "      <th>Kafka Timestamp</th>\n",
       "      <th>Draco Timestamp</th>\n",
       "      <th>Device Timestamp</th>\n",
       "      <th>Consumer Timestamp</th>\n",
       "      <th>datetime</th>\n",
       "      <th>Delay Draco/Device</th>\n",
       "      <th>Delay Kafka/Draco</th>\n",
       "      <th>Delay Kafka/Device</th>\n",
       "    </tr>\n",
       "  </thead>\n",
       "  <tbody>\n",
       "    <tr>\n",
       "      <th>11</th>\n",
       "      <td>urn:ngsi-ld:device:1000</td>\n",
       "      <td>True</td>\n",
       "      <td>1631612447502</td>\n",
       "      <td>1631612447483</td>\n",
       "      <td>1631612447434</td>\n",
       "      <td>1631612447506</td>\n",
       "      <td>2021-09-14 09:40:47.434</td>\n",
       "      <td>49</td>\n",
       "      <td>19</td>\n",
       "      <td>68</td>\n",
       "    </tr>\n",
       "    <tr>\n",
       "      <th>13</th>\n",
       "      <td>urn:ngsi-ld:device:1000</td>\n",
       "      <td>True</td>\n",
       "      <td>1631612448493</td>\n",
       "      <td>1631612448477</td>\n",
       "      <td>1631612448436</td>\n",
       "      <td>1631612448497</td>\n",
       "      <td>2021-09-14 09:40:48.436</td>\n",
       "      <td>41</td>\n",
       "      <td>16</td>\n",
       "      <td>57</td>\n",
       "    </tr>\n",
       "    <tr>\n",
       "      <th>14</th>\n",
       "      <td>urn:ngsi-ld:device:1001</td>\n",
       "      <td>True</td>\n",
       "      <td>1631612448515</td>\n",
       "      <td>1631612448499</td>\n",
       "      <td>1631612448451</td>\n",
       "      <td>1631612448520</td>\n",
       "      <td>2021-09-14 09:40:48.451</td>\n",
       "      <td>48</td>\n",
       "      <td>16</td>\n",
       "      <td>64</td>\n",
       "    </tr>\n",
       "    <tr>\n",
       "      <th>16</th>\n",
       "      <td>urn:ngsi-ld:device:1000</td>\n",
       "      <td>True</td>\n",
       "      <td>1631612449497</td>\n",
       "      <td>1631612449479</td>\n",
       "      <td>1631612449437</td>\n",
       "      <td>1631612449502</td>\n",
       "      <td>2021-09-14 09:40:49.437</td>\n",
       "      <td>42</td>\n",
       "      <td>18</td>\n",
       "      <td>60</td>\n",
       "    </tr>\n",
       "    <tr>\n",
       "      <th>17</th>\n",
       "      <td>urn:ngsi-ld:device:1001</td>\n",
       "      <td>True</td>\n",
       "      <td>1631612449510</td>\n",
       "      <td>1631612449491</td>\n",
       "      <td>1631612449453</td>\n",
       "      <td>1631612449512</td>\n",
       "      <td>2021-09-14 09:40:49.453</td>\n",
       "      <td>38</td>\n",
       "      <td>19</td>\n",
       "      <td>57</td>\n",
       "    </tr>\n",
       "    <tr>\n",
       "      <th>...</th>\n",
       "      <td>...</td>\n",
       "      <td>...</td>\n",
       "      <td>...</td>\n",
       "      <td>...</td>\n",
       "      <td>...</td>\n",
       "      <td>...</td>\n",
       "      <td>...</td>\n",
       "      <td>...</td>\n",
       "      <td>...</td>\n",
       "      <td>...</td>\n",
       "    </tr>\n",
       "    <tr>\n",
       "      <th>4988</th>\n",
       "      <td>urn:ngsi-ld:device:1003</td>\n",
       "      <td>True</td>\n",
       "      <td>1631613444882</td>\n",
       "      <td>1631613444868</td>\n",
       "      <td>1631613444846</td>\n",
       "      <td>1631613444883</td>\n",
       "      <td>2021-09-14 09:57:24.846</td>\n",
       "      <td>22</td>\n",
       "      <td>14</td>\n",
       "      <td>36</td>\n",
       "    </tr>\n",
       "    <tr>\n",
       "      <th>4989</th>\n",
       "      <td>urn:ngsi-ld:device:1004</td>\n",
       "      <td>True</td>\n",
       "      <td>1631613445003</td>\n",
       "      <td>1631613444989</td>\n",
       "      <td>1631613444961</td>\n",
       "      <td>1631613445005</td>\n",
       "      <td>2021-09-14 09:57:24.961</td>\n",
       "      <td>28</td>\n",
       "      <td>14</td>\n",
       "      <td>42</td>\n",
       "    </tr>\n",
       "    <tr>\n",
       "      <th>4990</th>\n",
       "      <td>urn:ngsi-ld:device:1001</td>\n",
       "      <td>True</td>\n",
       "      <td>1631613445879</td>\n",
       "      <td>1631613445864</td>\n",
       "      <td>1631613445802</td>\n",
       "      <td>1631613445881</td>\n",
       "      <td>2021-09-14 09:57:25.802</td>\n",
       "      <td>62</td>\n",
       "      <td>15</td>\n",
       "      <td>77</td>\n",
       "    </tr>\n",
       "    <tr>\n",
       "      <th>4991</th>\n",
       "      <td>urn:ngsi-ld:device:1002</td>\n",
       "      <td>True</td>\n",
       "      <td>1631613445879</td>\n",
       "      <td>1631613445864</td>\n",
       "      <td>1631613445802</td>\n",
       "      <td>1631613445882</td>\n",
       "      <td>2021-09-14 09:57:25.802</td>\n",
       "      <td>62</td>\n",
       "      <td>15</td>\n",
       "      <td>77</td>\n",
       "    </tr>\n",
       "    <tr>\n",
       "      <th>4992</th>\n",
       "      <td>urn:ngsi-ld:device:1000</td>\n",
       "      <td>True</td>\n",
       "      <td>1631613445879</td>\n",
       "      <td>1631613445864</td>\n",
       "      <td>1631613445802</td>\n",
       "      <td>1631613445882</td>\n",
       "      <td>2021-09-14 09:57:25.802</td>\n",
       "      <td>62</td>\n",
       "      <td>15</td>\n",
       "      <td>77</td>\n",
       "    </tr>\n",
       "  </tbody>\n",
       "</table>\n",
       "<p>4978 rows × 10 columns</p>\n",
       "</div>"
      ],
      "text/plain": [
       "                    Device ID Device Status  Kafka Timestamp  Draco Timestamp  \\\n",
       "11    urn:ngsi-ld:device:1000          True    1631612447502    1631612447483   \n",
       "13    urn:ngsi-ld:device:1000          True    1631612448493    1631612448477   \n",
       "14    urn:ngsi-ld:device:1001          True    1631612448515    1631612448499   \n",
       "16    urn:ngsi-ld:device:1000          True    1631612449497    1631612449479   \n",
       "17    urn:ngsi-ld:device:1001          True    1631612449510    1631612449491   \n",
       "...                       ...           ...              ...              ...   \n",
       "4988  urn:ngsi-ld:device:1003          True    1631613444882    1631613444868   \n",
       "4989  urn:ngsi-ld:device:1004          True    1631613445003    1631613444989   \n",
       "4990  urn:ngsi-ld:device:1001          True    1631613445879    1631613445864   \n",
       "4991  urn:ngsi-ld:device:1002          True    1631613445879    1631613445864   \n",
       "4992  urn:ngsi-ld:device:1000          True    1631613445879    1631613445864   \n",
       "\n",
       "      Device Timestamp  Consumer Timestamp                datetime  \\\n",
       "11       1631612447434       1631612447506 2021-09-14 09:40:47.434   \n",
       "13       1631612448436       1631612448497 2021-09-14 09:40:48.436   \n",
       "14       1631612448451       1631612448520 2021-09-14 09:40:48.451   \n",
       "16       1631612449437       1631612449502 2021-09-14 09:40:49.437   \n",
       "17       1631612449453       1631612449512 2021-09-14 09:40:49.453   \n",
       "...                ...                 ...                     ...   \n",
       "4988     1631613444846       1631613444883 2021-09-14 09:57:24.846   \n",
       "4989     1631613444961       1631613445005 2021-09-14 09:57:24.961   \n",
       "4990     1631613445802       1631613445881 2021-09-14 09:57:25.802   \n",
       "4991     1631613445802       1631613445882 2021-09-14 09:57:25.802   \n",
       "4992     1631613445802       1631613445882 2021-09-14 09:57:25.802   \n",
       "\n",
       "      Delay Draco/Device  Delay Kafka/Draco  Delay Kafka/Device  \n",
       "11                    49                 19                  68  \n",
       "13                    41                 16                  57  \n",
       "14                    48                 16                  64  \n",
       "16                    42                 18                  60  \n",
       "17                    38                 19                  57  \n",
       "...                  ...                ...                 ...  \n",
       "4988                  22                 14                  36  \n",
       "4989                  28                 14                  42  \n",
       "4990                  62                 15                  77  \n",
       "4991                  62                 15                  77  \n",
       "4992                  62                 15                  77  \n",
       "\n",
       "[4978 rows x 10 columns]"
      ]
     },
     "execution_count": 25,
     "metadata": {},
     "output_type": "execute_result"
    }
   ],
   "source": [
    "consumer"
   ]
  },
  {
   "cell_type": "code",
   "execution_count": 224,
   "id": "1b9efc82-3039-4e9f-84c0-7a4e2a64ebc5",
   "metadata": {},
   "outputs": [
    {
     "name": "stderr",
     "output_type": "stream",
     "text": [
      "<ipython-input-224-3c64bda37730>:1: ParserWarning: Falling back to the 'python' engine because the 'c' engine does not support regex separators (separators > 1 char and different from '\\s+' are interpreted as regex); you can avoid this warning by specifying engine='python'.\n",
      "  consumer_raw = pd.read_csv(experiment_subset+\"/\"+experiments[0]+\"/consumer/\"+experiments[0]+\".csv\", header=None, sep=\", \")\n"
     ]
    }
   ],
   "source": [
    "consumer_raw = pd.read_csv(experiment_subset+\"/\"+experiments[0]+\"/consumer/\"+experiments[0]+\".csv\", header=None, sep=\", \")"
   ]
  },
  {
   "cell_type": "code",
   "execution_count": 225,
   "id": "1b0f8467-6d50-4704-9251-6006b8587709",
   "metadata": {},
   "outputs": [
    {
     "data": {
      "text/html": [
       "<div>\n",
       "<style scoped>\n",
       "    .dataframe tbody tr th:only-of-type {\n",
       "        vertical-align: middle;\n",
       "    }\n",
       "\n",
       "    .dataframe tbody tr th {\n",
       "        vertical-align: top;\n",
       "    }\n",
       "\n",
       "    .dataframe thead th {\n",
       "        text-align: right;\n",
       "    }\n",
       "</style>\n",
       "<table border=\"1\" class=\"dataframe\">\n",
       "  <thead>\n",
       "    <tr style=\"text-align: right;\">\n",
       "      <th></th>\n",
       "      <th>0</th>\n",
       "      <th>1</th>\n",
       "      <th>2</th>\n",
       "      <th>3</th>\n",
       "      <th>4</th>\n",
       "    </tr>\n",
       "  </thead>\n",
       "  <tbody>\n",
       "    <tr>\n",
       "      <th>0</th>\n",
       "      <td>urn:ngsi-ld:device:1002</td>\n",
       "      <td>None</td>\n",
       "      <td>1631287180010</td>\n",
       "      <td>1631287179587</td>\n",
       "      <td>None</td>\n",
       "    </tr>\n",
       "    <tr>\n",
       "      <th>1</th>\n",
       "      <td>urn:ngsi-ld:device:1001</td>\n",
       "      <td>None</td>\n",
       "      <td>1631287180027</td>\n",
       "      <td>1631287179599</td>\n",
       "      <td>None</td>\n",
       "    </tr>\n",
       "    <tr>\n",
       "      <th>2</th>\n",
       "      <td>urn:ngsi-ld:device:1000</td>\n",
       "      <td>None</td>\n",
       "      <td>1631287180038</td>\n",
       "      <td>1631287179601</td>\n",
       "      <td>None</td>\n",
       "    </tr>\n",
       "    <tr>\n",
       "      <th>3</th>\n",
       "      <td>urn:ngsi-ld:device:1003</td>\n",
       "      <td>None</td>\n",
       "      <td>1631287180039</td>\n",
       "      <td>1631287179929</td>\n",
       "      <td>None</td>\n",
       "    </tr>\n",
       "    <tr>\n",
       "      <th>4</th>\n",
       "      <td>urn:ngsi-ld:device:1004</td>\n",
       "      <td>None</td>\n",
       "      <td>1631287180455</td>\n",
       "      <td>1631287180435</td>\n",
       "      <td>None</td>\n",
       "    </tr>\n",
       "    <tr>\n",
       "      <th>5</th>\n",
       "      <td>urn:ngsi-ld:device:1000</td>\n",
       "      <td>True</td>\n",
       "      <td>1631287182213</td>\n",
       "      <td>1631287182177</td>\n",
       "      <td>None</td>\n",
       "    </tr>\n",
       "    <tr>\n",
       "      <th>6</th>\n",
       "      <td>urn:ngsi-ld:device:1001</td>\n",
       "      <td>True</td>\n",
       "      <td>1631287182729</td>\n",
       "      <td>1631287182707</td>\n",
       "      <td>None</td>\n",
       "    </tr>\n",
       "    <tr>\n",
       "      <th>7</th>\n",
       "      <td>urn:ngsi-ld:device:1002</td>\n",
       "      <td>True</td>\n",
       "      <td>1631287183427</td>\n",
       "      <td>1631287183414</td>\n",
       "      <td>None</td>\n",
       "    </tr>\n",
       "    <tr>\n",
       "      <th>8</th>\n",
       "      <td>urn:ngsi-ld:device:1003</td>\n",
       "      <td>True</td>\n",
       "      <td>1631287184144</td>\n",
       "      <td>1631287184131</td>\n",
       "      <td>None</td>\n",
       "    </tr>\n",
       "    <tr>\n",
       "      <th>9</th>\n",
       "      <td>urn:ngsi-ld:device:1004</td>\n",
       "      <td>True</td>\n",
       "      <td>1631287184177</td>\n",
       "      <td>1631287184163</td>\n",
       "      <td>None</td>\n",
       "    </tr>\n",
       "    <tr>\n",
       "      <th>10</th>\n",
       "      <td>urn:ngsi-ld:device:1000</td>\n",
       "      <td>True</td>\n",
       "      <td>1631287200036</td>\n",
       "      <td>1631287200016</td>\n",
       "      <td>None</td>\n",
       "    </tr>\n",
       "    <tr>\n",
       "      <th>11</th>\n",
       "      <td>urn:ngsi-ld:device:1001</td>\n",
       "      <td>True</td>\n",
       "      <td>1631287200049</td>\n",
       "      <td>1631287200028</td>\n",
       "      <td>None</td>\n",
       "    </tr>\n",
       "    <tr>\n",
       "      <th>12</th>\n",
       "      <td>urn:ngsi-ld:device:1002</td>\n",
       "      <td>True</td>\n",
       "      <td>1631287200052</td>\n",
       "      <td>1631287200040</td>\n",
       "      <td>None</td>\n",
       "    </tr>\n",
       "    <tr>\n",
       "      <th>13</th>\n",
       "      <td>urn:ngsi-ld:device:1003</td>\n",
       "      <td>True</td>\n",
       "      <td>1631287200074</td>\n",
       "      <td>1631287200062</td>\n",
       "      <td>None</td>\n",
       "    </tr>\n",
       "    <tr>\n",
       "      <th>14</th>\n",
       "      <td>urn:ngsi-ld:device:1004</td>\n",
       "      <td>True</td>\n",
       "      <td>1631287200096</td>\n",
       "      <td>1631287200084</td>\n",
       "      <td>None</td>\n",
       "    </tr>\n",
       "    <tr>\n",
       "      <th>15</th>\n",
       "      <td>urn:ngsi-ld:device:1000</td>\n",
       "      <td>True</td>\n",
       "      <td>1631287201035</td>\n",
       "      <td>1631287201013</td>\n",
       "      <td>1631287200976</td>\n",
       "    </tr>\n",
       "    <tr>\n",
       "      <th>16</th>\n",
       "      <td>urn:ngsi-ld:device:1001</td>\n",
       "      <td>True</td>\n",
       "      <td>1631287201036</td>\n",
       "      <td>1631287201029</td>\n",
       "      <td>1631287200996</td>\n",
       "    </tr>\n",
       "    <tr>\n",
       "      <th>17</th>\n",
       "      <td>urn:ngsi-ld:device:1002</td>\n",
       "      <td>True</td>\n",
       "      <td>1631287201048</td>\n",
       "      <td>1631287201040</td>\n",
       "      <td>1631287201012</td>\n",
       "    </tr>\n",
       "    <tr>\n",
       "      <th>18</th>\n",
       "      <td>urn:ngsi-ld:device:1003</td>\n",
       "      <td>True</td>\n",
       "      <td>1631287201060</td>\n",
       "      <td>1631287201051</td>\n",
       "      <td>1631287201030</td>\n",
       "    </tr>\n",
       "    <tr>\n",
       "      <th>19</th>\n",
       "      <td>urn:ngsi-ld:device:1004</td>\n",
       "      <td>True</td>\n",
       "      <td>1631287201093</td>\n",
       "      <td>1631287201083</td>\n",
       "      <td>1631287201049</td>\n",
       "    </tr>\n",
       "  </tbody>\n",
       "</table>\n",
       "</div>"
      ],
      "text/plain": [
       "                          0     1              2              3              4\n",
       "0   urn:ngsi-ld:device:1002  None  1631287180010  1631287179587           None\n",
       "1   urn:ngsi-ld:device:1001  None  1631287180027  1631287179599           None\n",
       "2   urn:ngsi-ld:device:1000  None  1631287180038  1631287179601           None\n",
       "3   urn:ngsi-ld:device:1003  None  1631287180039  1631287179929           None\n",
       "4   urn:ngsi-ld:device:1004  None  1631287180455  1631287180435           None\n",
       "5   urn:ngsi-ld:device:1000  True  1631287182213  1631287182177           None\n",
       "6   urn:ngsi-ld:device:1001  True  1631287182729  1631287182707           None\n",
       "7   urn:ngsi-ld:device:1002  True  1631287183427  1631287183414           None\n",
       "8   urn:ngsi-ld:device:1003  True  1631287184144  1631287184131           None\n",
       "9   urn:ngsi-ld:device:1004  True  1631287184177  1631287184163           None\n",
       "10  urn:ngsi-ld:device:1000  True  1631287200036  1631287200016           None\n",
       "11  urn:ngsi-ld:device:1001  True  1631287200049  1631287200028           None\n",
       "12  urn:ngsi-ld:device:1002  True  1631287200052  1631287200040           None\n",
       "13  urn:ngsi-ld:device:1003  True  1631287200074  1631287200062           None\n",
       "14  urn:ngsi-ld:device:1004  True  1631287200096  1631287200084           None\n",
       "15  urn:ngsi-ld:device:1000  True  1631287201035  1631287201013  1631287200976\n",
       "16  urn:ngsi-ld:device:1001  True  1631287201036  1631287201029  1631287200996\n",
       "17  urn:ngsi-ld:device:1002  True  1631287201048  1631287201040  1631287201012\n",
       "18  urn:ngsi-ld:device:1003  True  1631287201060  1631287201051  1631287201030\n",
       "19  urn:ngsi-ld:device:1004  True  1631287201093  1631287201083  1631287201049"
      ]
     },
     "execution_count": 225,
     "metadata": {},
     "output_type": "execute_result"
    }
   ],
   "source": [
    "consumer_raw.head(20)"
   ]
  },
  {
   "cell_type": "markdown",
   "id": "625a6494-3273-494e-be05-7e9f32974856",
   "metadata": {},
   "source": [
    "Non mi torna, quando il device è on dovrebbe mandare anche il suo tempo invece, incrociando i dati con quelli scritti dal device, mia accorgo che ci sono nei primi dati raccolti delle perdite di informazioni"
   ]
  },
  {
   "cell_type": "markdown",
   "id": "a068b8b3-e6ca-4a54-883f-6f834d5e4732",
   "metadata": {},
   "source": [
    "# Test automazione"
   ]
  },
  {
   "cell_type": "code",
   "execution_count": 313,
   "id": "20f768ed-b50c-459d-aa33-8bb5cee62f2f",
   "metadata": {},
   "outputs": [],
   "source": [
    "def readAggregateDevices(experiment_set, experiment_name):\n",
    "    experiments = os.listdir(experiment_set)\n",
    "    devices = pd.DataFrame(columns=[0,1,2])\n",
    "    for device_file in os.listdir(experiment_set+\"/\"+experiment_name+\"/devices\"):\n",
    "        if(device_file.endswith(\".csv\")):\n",
    "            device = pd.read_csv(experiment_set+\"/\"+experiment_name+\"/devices/\"+device_file, header=None)\n",
    "            devices = pd.concat([devices, device])\n",
    "    devices.columns=[\"Device ID\", \"Device Status\", \"Device Timestamp\"]\n",
    "    devices[\"datetime\"] = pd.to_datetime(devices[\"Device Timestamp\"], unit=\"ms\")\n",
    "\n",
    "    return devices"
   ]
  },
  {
   "cell_type": "code",
   "execution_count": 314,
   "id": "54341ac9-d7cd-4469-b6e9-6e51192a90f1",
   "metadata": {},
   "outputs": [],
   "source": [
    "def readConsumer(experiment_set, experiment_name):\n",
    "    result = pd.read_csv(experiment_subset+\"/\"+experiment_name+\"/consumer/\"+experiment_name+\".csv\", header=None, sep=\", \") \\\n",
    "        .replace(\"None\", np.nan) \\\n",
    "        .dropna()\n",
    "    result.columns=[\"Device ID\", \"Device Status\", \"Kafka Timestamp\", \"Draco Timestamp\", \"Device Timestamp\"]\n",
    "    \n",
    "    result[\"datetime\"] = pd.to_datetime(result[\"Device Timestamp\"], unit=\"ms\")\n",
    "    result[\"Kafka Timestamp\"] = result[\"Kafka Timestamp\"].astype(\"int64\", copy=False)\n",
    "    result[\"Draco Timestamp\"] = result[\"Draco Timestamp\"].astype(\"int64\", copy=False)\n",
    "    result[\"Device Timestamp\"] = result[\"Device Timestamp\"].astype(\"int64\", copy=False)\n",
    "    \n",
    "    result[\"Delay Draco/Device\"] = result[\"Draco Timestamp\"] - result[\"Device Timestamp\"]\n",
    "    result[\"Delay Kafka/Draco\"] = result[\"Kafka Timestamp\"] - result[\"Draco Timestamp\"]\n",
    "    result[\"Delay Kafka/Device\"] = result[\"Kafka Timestamp\"] - result[\"Device Timestamp\"]\n",
    "\n",
    "    return result"
   ]
  },
  {
   "cell_type": "code",
   "execution_count": 228,
   "id": "51f71c2d-8d47-4e08-ab78-cc6d7dfb0663",
   "metadata": {},
   "outputs": [],
   "source": [
    "def createResultHolder(parameters):\n",
    "    result = pd.DataFrame(columns= [*parameters, \"Fiware message count\", \"Fiware delay\", \"Kafka message count\", \"Kafka delay\"])\n",
    "    return result"
   ]
  },
  {
   "cell_type": "code",
   "execution_count": 318,
   "id": "dbc76c64-1982-4f07-a613-c23dcd34559f",
   "metadata": {},
   "outputs": [],
   "source": [
    "experiment_set = \"freq\"\n",
    "experiment_name = \"5_1000_1000_1_0_0_0_20210910_1515\""
   ]
  },
  {
   "cell_type": "code",
   "execution_count": 319,
   "id": "11958404-b421-4e9c-bb83-9f6a43460dd0",
   "metadata": {},
   "outputs": [],
   "source": [
    "experiments = os.listdir(experiment_set)"
   ]
  },
  {
   "cell_type": "code",
   "execution_count": 321,
   "id": "5dd6d606-7559-479d-a1bc-523a801880f4",
   "metadata": {},
   "outputs": [],
   "source": [
    "devices = readAggregateDevices(experiment_set, experiment_name)"
   ]
  },
  {
   "cell_type": "code",
   "execution_count": 322,
   "id": "404103b2-3c96-480a-8f91-52bc1c7fc622",
   "metadata": {},
   "outputs": [
    {
     "name": "stderr",
     "output_type": "stream",
     "text": [
      "<ipython-input-314-c9f73ba08a14>:2: ParserWarning: Falling back to the 'python' engine because the 'c' engine does not support regex separators (separators > 1 char and different from '\\s+' are interpreted as regex); you can avoid this warning by specifying engine='python'.\n",
      "  result = pd.read_csv(experiment_subset+\"/\"+experiment_name+\"/consumer/\"+experiment_name+\".csv\", header=None, sep=\", \") \\\n"
     ]
    }
   ],
   "source": [
    "consumer = readConsumer(experiment_set, experiment_name)"
   ]
  },
  {
   "cell_type": "markdown",
   "id": "6a03e1f4-b150-4e31-a312-a8d7b5b7ae3d",
   "metadata": {},
   "source": [
    "## Result holder"
   ]
  },
  {
   "cell_type": "code",
   "execution_count": 234,
   "id": "8f5f3a49-7dcc-4f58-9327-06290f2b81f1",
   "metadata": {},
   "outputs": [],
   "source": [
    "result_holder = createResultHolder([\"Frequency\", \"Device #\", \"Message #\"])"
   ]
  },
  {
   "cell_type": "code",
   "execution_count": 235,
   "id": "cd81a02c-ee1f-49c4-8692-bf1510c2f9b0",
   "metadata": {},
   "outputs": [
    {
     "data": {
      "text/html": [
       "<div>\n",
       "<style scoped>\n",
       "    .dataframe tbody tr th:only-of-type {\n",
       "        vertical-align: middle;\n",
       "    }\n",
       "\n",
       "    .dataframe tbody tr th {\n",
       "        vertical-align: top;\n",
       "    }\n",
       "\n",
       "    .dataframe thead th {\n",
       "        text-align: right;\n",
       "    }\n",
       "</style>\n",
       "<table border=\"1\" class=\"dataframe\">\n",
       "  <thead>\n",
       "    <tr style=\"text-align: right;\">\n",
       "      <th></th>\n",
       "      <th>Frequency</th>\n",
       "      <th>Device #</th>\n",
       "      <th>Message #</th>\n",
       "      <th>Fiware message count</th>\n",
       "      <th>Fiware delay</th>\n",
       "      <th>Kafka message count</th>\n",
       "      <th>Kafka delay</th>\n",
       "    </tr>\n",
       "  </thead>\n",
       "  <tbody>\n",
       "  </tbody>\n",
       "</table>\n",
       "</div>"
      ],
      "text/plain": [
       "Empty DataFrame\n",
       "Columns: [Frequency, Device #, Message #, Fiware message count, Fiware delay, Kafka message count, Kafka delay]\n",
       "Index: []"
      ]
     },
     "execution_count": 235,
     "metadata": {},
     "output_type": "execute_result"
    }
   ],
   "source": [
    "result_holder"
   ]
  },
  {
   "cell_type": "markdown",
   "id": "61c33e6b-731c-4339-abee-7340a5e46424",
   "metadata": {},
   "source": [
    "## Grafico 1\n",
    "\n",
    "X = tempo\n",
    "\n",
    "Y = count (device vs consumer)"
   ]
  },
  {
   "cell_type": "code",
   "execution_count": 404,
   "id": "53d99d7f-607d-493c-831f-6902fabd1983",
   "metadata": {},
   "outputs": [],
   "source": [
    "def graphType1(devices, consumer, title):\n",
    "    res = pd.DataFrame()\n",
    "    res[\"device aggregregate count\"] = devices.resample(\"1s\", on=\"datetime\").count()[\"datetime\"]\n",
    "    res[\"endpoint count\"] = consumer.resample(\"1s\", on=\"datetime\").count()[\"datetime\"]\n",
    "    ax = res.plot()\n",
    "    ax.set_xlabel(\"time\")\n",
    "    ax.set_ylabel(\"count\")\n",
    "    ax.set_title(\"title\")\n",
    "    ax.plot()"
   ]
  },
  {
   "cell_type": "code",
   "execution_count": 406,
   "id": "3ca21bab-092e-4fec-ab3b-b9984bdec20b",
   "metadata": {},
   "outputs": [
    {
     "data": {
      "image/png": "[encoded data removed]",
      "text/plain": [
       "<Figure size 432x288 with 1 Axes>"
      ]
     },
     "metadata": {
      "needs_background": "light"
     },
     "output_type": "display_data"
    }
   ],
   "source": [
    "graphType1(devices, consumer, \"test\")"
   ]
  },
  {
   "cell_type": "markdown",
   "id": "c4ced1b3-0a6f-496d-8776-2b78341a4ad4",
   "metadata": {},
   "source": [
    "## Grafico 2\n",
    "\n",
    "x = tempo\n",
    "\n",
    "y = delay (device/draco, draco/kafka, device/kafka)"
   ]
  },
  {
   "cell_type": "code",
   "execution_count": 401,
   "id": "a3db9959-4e96-4d39-93c4-0e8341c40280",
   "metadata": {},
   "outputs": [],
   "source": [
    "def graphType2(consumer, title):        \n",
    "\n",
    "    delayDracoDevice = consumer.resample(\"1s\", on='datetime').mean()[\"Delay Draco/Device\"]\n",
    "    delayKafkaDraco = consumer.resample(\"1s\", on='datetime').mean()[\"Delay Kafka/Draco\"]\n",
    "    delayKafkaDevice = consumer.resample(\"1s\", on='datetime').mean()[\"Delay Kafka/Device\"]\n",
    "    \n",
    "    \n",
    "    res = pd.DataFrame()\n",
    "    res[\"Delay Draco/Device\"] = delayDracoDevice\n",
    "    res[\"Delay Kafka/Draco\"] = delayKafkaDraco\n",
    "    res[\"Delay Kafka/Device\"] = delayKafkaDevice\n",
    "\n",
    "    \n",
    "    \n",
    "    ax = res.plot()\n",
    "    ax.set_xlabel(\"time\")\n",
    "    ax.set_ylabel(\"delay (ms)\")\n",
    "    ax.set_title(title)\n",
    "    ax.plot()"
   ]
  },
  {
   "cell_type": "code",
   "execution_count": 403,
   "id": "c9853a28-b6e3-4142-a964-e3276d47edf7",
   "metadata": {},
   "outputs": [
    {
     "data": {
      "image/png": "[encoded data removed]",
      "text/plain": [
       "<Figure size 432x288 with 1 Axes>"
      ]
     },
     "metadata": {
      "needs_background": "light"
     },
     "output_type": "display_data"
    }
   ],
   "source": [
    "graphType2(consumer, \"test\")"
   ]
  },
  {
   "cell_type": "markdown",
   "id": "bd73f1c8-caad-4556-b3d7-465d90d15517",
   "metadata": {},
   "source": [
    "# Grafico 3\n",
    "\n",
    "riguarda un intero setting, non i singoli esperimenti come quelli di prima"
   ]
  },
  {
   "cell_type": "code",
   "execution_count": 43,
   "id": "affc9f92-6900-4988-b50d-6e7ae1cd934d",
   "metadata": {},
   "outputs": [],
   "source": [
    "def graphType3(experiment_set, variable_index, xlabel, title):\n",
    "    metrics = {}\n",
    "    experiments = os.listdir(experiment_subset)\n",
    "    for experiment in experiments:\n",
    "        consumer = readConsumer(experiment_set, experiment)\n",
    "        devices = readAggregateDevices(experiment_set, experiment)\n",
    "        label = experiment.split(\"_\")[variable_index]\n",
    "        metrics[label] = (consumer.shape[0] / devices.shape[0]) * 100\n",
    "       \n",
    "    result = pd.DataFrame.from_dict(metrics, orient=\"index\")\n",
    "    result.sort_index(axis=1, inplace=True)\n",
    "\n",
    "    \n",
    "    plt = result.plot(kind=\"bar\", legend=False)\n",
    "    plt.set_title(title)\n",
    "    plt.set_xlabel(xlabel)\n",
    "    plt.set_ylabel(\"#received / #sent\")\n",
    "    plt.plot()\n",
    "    \n",
    "    return result"
   ]
  },
  {
   "cell_type": "code",
   "execution_count": 66,
   "id": "b2ef3dc3-64f8-46fa-a417-fe4a0d4f60a4",
   "metadata": {},
   "outputs": [
    {
     "data": {
      "text/plain": [
       "'freqV3'"
      ]
     },
     "execution_count": 66,
     "metadata": {},
     "output_type": "execute_result"
    }
   ],
   "source": [
    "experiment_set"
   ]
  },
  {
   "cell_type": "code",
   "execution_count": 63,
   "id": "b2ffc793-eb07-491e-a144-3a5b3ab65cdd",
   "metadata": {},
   "outputs": [
    {
     "name": "stderr",
     "output_type": "stream",
     "text": [
      "/home/monte97/.local/lib/python3.8/site-packages/IPython/core/interactiveshell.py:3441: DtypeWarning: Columns (1,4) have mixed types.Specify dtype option on import or set low_memory=False.\n",
      "  exec(code_obj, self.user_global_ns, self.user_ns)\n",
      "/home/monte97/.local/lib/python3.8/site-packages/IPython/core/interactiveshell.py:3441: DtypeWarning: Columns (1,4) have mixed types.Specify dtype option on import or set low_memory=False.\n",
      "  exec(code_obj, self.user_global_ns, self.user_ns)\n",
      "/home/monte97/.local/lib/python3.8/site-packages/IPython/core/interactiveshell.py:3441: DtypeWarning: Columns (1,4) have mixed types.Specify dtype option on import or set low_memory=False.\n",
      "  exec(code_obj, self.user_global_ns, self.user_ns)\n"
     ]
    },
    {
     "data": {
      "image/png": "[encoded data removed]",
      "text/plain": [
       "<Figure size 432x288 with 1 Axes>"
      ]
     },
     "metadata": {
      "needs_background": "light"
     },
     "output_type": "display_data"
    }
   ],
   "source": [
    "test = graphType3(experiment_set, 1, \"Frequency\", \"Title\")"
   ]
  },
  {
   "cell_type": "code",
   "execution_count": 65,
   "id": "25fe2720-8b54-4332-a4af-b77bf135e80d",
   "metadata": {},
   "outputs": [
    {
     "data": {
      "text/html": [
       "<div>\n",
       "<style scoped>\n",
       "    .dataframe tbody tr th:only-of-type {\n",
       "        vertical-align: middle;\n",
       "    }\n",
       "\n",
       "    .dataframe tbody tr th {\n",
       "        vertical-align: top;\n",
       "    }\n",
       "\n",
       "    .dataframe thead th {\n",
       "        text-align: right;\n",
       "    }\n",
       "</style>\n",
       "<table border=\"1\" class=\"dataframe\">\n",
       "  <thead>\n",
       "    <tr style=\"text-align: right;\">\n",
       "      <th></th>\n",
       "      <th>0</th>\n",
       "    </tr>\n",
       "  </thead>\n",
       "  <tbody>\n",
       "    <tr>\n",
       "      <th>1000</th>\n",
       "      <td>99.460539</td>\n",
       "    </tr>\n",
       "    <tr>\n",
       "      <th>100</th>\n",
       "      <td>99.797800</td>\n",
       "    </tr>\n",
       "    <tr>\n",
       "      <th>10</th>\n",
       "      <td>91.857202</td>\n",
       "    </tr>\n",
       "    <tr>\n",
       "      <th>8</th>\n",
       "      <td>74.356317</td>\n",
       "    </tr>\n",
       "    <tr>\n",
       "      <th>6</th>\n",
       "      <td>55.699468</td>\n",
       "    </tr>\n",
       "  </tbody>\n",
       "</table>\n",
       "</div>"
      ],
      "text/plain": [
       "              0\n",
       "1000  99.460539\n",
       "100   99.797800\n",
       "10    91.857202\n",
       "8     74.356317\n",
       "6     55.699468"
      ]
     },
     "execution_count": 65,
     "metadata": {},
     "output_type": "execute_result"
    }
   ],
   "source": [
    "test.index = test.index.astype(int)\n",
    "test = test.sort_index(ascending=False)\n",
    "test"
   ]
  },
  {
   "cell_type": "code",
   "execution_count": 62,
   "id": "e7f1d5e1-35b0-4696-bfda-2c2ef01e8f42",
   "metadata": {},
   "outputs": [
    {
     "data": {
      "text/plain": [
       "Int64Index([10, 100, 1000, 6, 8], dtype='int64')"
      ]
     },
     "execution_count": 62,
     "metadata": {},
     "output_type": "execute_result"
    }
   ],
   "source": [
    "test"
   ]
  },
  {
   "cell_type": "markdown",
   "id": "8638c3a8-fa31-4c69-a3e4-07d98277984d",
   "metadata": {},
   "source": [
    "# Grafico 4\n",
    "\n",
    "X = variable che cambia nel setting\n",
    "Y = ritardo medio end to end"
   ]
  },
  {
   "cell_type": "code",
   "execution_count": 26,
   "id": "899c164d-39f1-404a-9c2b-3056bb880b05",
   "metadata": {},
   "outputs": [],
   "source": [
    "def graphType4(experiment_set, variable_index, xlabel, title):\n",
    "    metrics = {}\n",
    "    experiments = os.listdir(experiment_subset)\n",
    "    for experiment in experiments:\n",
    "        label = experiment.split(\"_\")[variable_index]\n",
    "        consumer = readConsumer(experiment_set, experiment)\n",
    "        metrics[label] = consumer[\"Delay Kafka/Device\"].mean()\n",
    "\n",
    "        \n",
    "    \n",
    "    result = pd.DataFrame.from_dict(metrics, orient=\"index\")\n",
    "    \n",
    "    plt = result.plot(kind=\"bar\", legend=False)\n",
    "    plt.set_title(title)\n",
    "    plt.set_xlabel(xlabel)\n",
    "    plt.set_ylabel(\"delay(ms)\")\n",
    "    plt.plot()"
   ]
  },
  {
   "cell_type": "code",
   "execution_count": 27,
   "id": "353e5f2b-95a1-4f2c-9595-507d81eac18b",
   "metadata": {},
   "outputs": [
    {
     "ename": "NameError",
     "evalue": "name 'readConsumer' is not defined",
     "output_type": "error",
     "traceback": [
      "\u001b[0;31m---------------------------------------------------------------------------\u001b[0m",
      "\u001b[0;31mNameError\u001b[0m                                 Traceback (most recent call last)",
      "\u001b[0;32m<ipython-input-27-f467038e1ba6>\u001b[0m in \u001b[0;36m<module>\u001b[0;34m\u001b[0m\n\u001b[0;32m----> 1\u001b[0;31m \u001b[0mgraphType4\u001b[0m\u001b[0;34m(\u001b[0m\u001b[0mexperiment_set\u001b[0m\u001b[0;34m,\u001b[0m \u001b[0;36m1\u001b[0m\u001b[0;34m,\u001b[0m \u001b[0;34m\"Frequency\"\u001b[0m\u001b[0;34m,\u001b[0m \u001b[0;34m\"Title\"\u001b[0m\u001b[0;34m)\u001b[0m\u001b[0;34m\u001b[0m\u001b[0;34m\u001b[0m\u001b[0m\n\u001b[0m",
      "\u001b[0;32m<ipython-input-26-972031348558>\u001b[0m in \u001b[0;36mgraphType4\u001b[0;34m(experiment_set, variable_index, xlabel, title)\u001b[0m\n\u001b[1;32m      4\u001b[0m     \u001b[0;32mfor\u001b[0m \u001b[0mexperiment\u001b[0m \u001b[0;32min\u001b[0m \u001b[0mexperiments\u001b[0m\u001b[0;34m:\u001b[0m\u001b[0;34m\u001b[0m\u001b[0;34m\u001b[0m\u001b[0m\n\u001b[1;32m      5\u001b[0m         \u001b[0mlabel\u001b[0m \u001b[0;34m=\u001b[0m \u001b[0mexperiment\u001b[0m\u001b[0;34m.\u001b[0m\u001b[0msplit\u001b[0m\u001b[0;34m(\u001b[0m\u001b[0;34m\"_\"\u001b[0m\u001b[0;34m)\u001b[0m\u001b[0;34m[\u001b[0m\u001b[0mvariable_index\u001b[0m\u001b[0;34m]\u001b[0m\u001b[0;34m\u001b[0m\u001b[0;34m\u001b[0m\u001b[0m\n\u001b[0;32m----> 6\u001b[0;31m         \u001b[0mconsumer\u001b[0m \u001b[0;34m=\u001b[0m \u001b[0mreadConsumer\u001b[0m\u001b[0;34m(\u001b[0m\u001b[0mexperiment_set\u001b[0m\u001b[0;34m,\u001b[0m \u001b[0mexperiment\u001b[0m\u001b[0;34m)\u001b[0m\u001b[0;34m\u001b[0m\u001b[0;34m\u001b[0m\u001b[0m\n\u001b[0m\u001b[1;32m      7\u001b[0m         \u001b[0mmetrics\u001b[0m\u001b[0;34m[\u001b[0m\u001b[0mlabel\u001b[0m\u001b[0;34m]\u001b[0m \u001b[0;34m=\u001b[0m \u001b[0mconsumer\u001b[0m\u001b[0;34m[\u001b[0m\u001b[0;34m\"Delay Kafka/Device\"\u001b[0m\u001b[0;34m]\u001b[0m\u001b[0;34m.\u001b[0m\u001b[0mmean\u001b[0m\u001b[0;34m(\u001b[0m\u001b[0;34m)\u001b[0m\u001b[0;34m\u001b[0m\u001b[0;34m\u001b[0m\u001b[0m\n\u001b[1;32m      8\u001b[0m \u001b[0;34m\u001b[0m\u001b[0m\n",
      "\u001b[0;31mNameError\u001b[0m: name 'readConsumer' is not defined"
     ]
    }
   ],
   "source": [
    "graphType4(experiment_set, 1, \"Frequency\", \"Title\")"
   ]
  },
  {
   "cell_type": "markdown",
   "id": "ed32a8fd-eb5c-471b-b990-0ed54dbc39be",
   "metadata": {},
   "source": [
    "---"
   ]
  },
  {
   "cell_type": "code",
   "execution_count": 71,
   "id": "b6e2fb11-8de3-40ea-8528-9abe5253e2a8",
   "metadata": {},
   "outputs": [],
   "source": [
    "def test(x):\n",
    "    print(x(10))"
   ]
  },
  {
   "cell_type": "code",
   "execution_count": 72,
   "id": "227cb7eb-c7e9-4938-85b7-da8696b5cd2f",
   "metadata": {},
   "outputs": [
    {
     "name": "stdout",
     "output_type": "stream",
     "text": [
      "20\n"
     ]
    }
   ],
   "source": [
    "test(lambda x: x*2)"
   ]
  },
  {
   "cell_type": "code",
   "execution_count": null,
   "id": "2adf2346-d9bb-47a8-924e-c9f6df95c999",
   "metadata": {},
   "outputs": [],
   "source": []
  }
 ],
 "metadata": {
  "kernelspec": {
   "display_name": "Python 3",
   "language": "python",
   "name": "python3"
  },
  "language_info": {
   "codemirror_mode": {
    "name": "ipython",
    "version": 3
   },
   "file_extension": ".py",
   "mimetype": "text/x-python",
   "name": "python",
   "nbconvert_exporter": "python",
   "pygments_lexer": "ipython3",
   "version": "3.8.10"
  }
 },
 "nbformat": 4,
 "nbformat_minor": 5
}
